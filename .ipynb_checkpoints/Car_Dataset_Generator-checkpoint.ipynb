{
 "cells": [
  {
   "cell_type": "code",
   "execution_count": 36,
   "id": "f7a35874-e572-439a-9825-be0aaab80404",
   "metadata": {},
   "outputs": [],
   "source": [
    "import pandas as pd\n",
    "import numpy as np\n",
    "import random\n",
    "\n",
    "def generate_synthetic_data(num_samples=100000, save_path=\"synthetic_car_sales.csv\"):\n",
    "    print(f\"Generating synthetic dataset with {num_samples} samples...\")\n",
    "    \"\"\"\n",
    "    Generate synthetic car inventory data with realistic distributions, including luxury cars.\n",
    "    \"\"\"\n",
    "    # Car brands and models\n",
    "    car_brands = {\n",
    "        \"Toyota\": [\"Corolla\", \"Camry\", \"RAV4\"],\n",
    "        \"Honda\": [\"Civic\", \"Accord\", \"CR-V\"],\n",
    "        \"Ford\": [\"Focus\", \"Fusion\", \"Escape\"],\n",
    "        \"BMW\": [\"3 Series\", \"5 Series\", \"X5\", \"7 Series\"],\n",
    "        \"Mercedes\": [\"C-Class\", \"E-Class\", \"GLC\", \"S-Class\"],\n",
    "        \"Tesla\": [\"Model 3\", \"Model S\", \"Model X\", \"Model Y\"],\n",
    "        \"Porsche\": [\"911\", \"Cayenne\", \"Panamera\", \"Taycan\"],\n",
    "        \"Lexus\": [\"ES\", \"RX\", \"LS\", \"GX\"]\n",
    "    }\n",
    "    \n",
    "    # Set seed for reproducibility\n",
    "    np.random.seed(42)\n",
    "    \n",
    "    # Adjusted probabilities to sum to 1 and match the number of years\n",
    "    years = list(range(2010, 2024))\n",
    "    year_probabilities = [0.04, 0.04, 0.04, 0.04, 0.04, 0.04, 0.04, 0.06, 0.06, 0.08, 0.1, 0.12, 0.14, 0.16]  # Total sum is 1\n",
    "    \n",
    "    # Generate realistic data\n",
    "    data = []\n",
    "    for _ in range(num_records):\n",
    "        brand = random.choice(list(car_brands.keys()))\n",
    "        model = random.choice(car_brands[brand])\n",
    "        year = np.random.choice(years, p=year_probabilities)  # Weighted towards newer models\n",
    "        mileage = int(np.random.normal(loc=60000, scale=30000))  # Normal distribution for mileage\n",
    "        mileage = max(5000, min(200000, mileage))  # Clip values to realistic range\n",
    "        condition = np.random.choice([\"Excellent\", \"Good\", \"Fair\", \"Poor\"], p=[0.2, 0.5, 0.2, 0.1])\n",
    "        \n",
    "        # Adjust purchase cost and pricing for luxury cars\n",
    "        if brand in [\"BMW\", \"Mercedes\", \"Tesla\", \"Porsche\", \"Lexus\"]:\n",
    "            purchase_cost = int(np.random.normal(loc=50000, scale=15000))  # Higher cost for luxury brands\n",
    "        else:\n",
    "            purchase_cost = int(np.random.normal(loc=25000, scale=10000))\n",
    "        \n",
    "        purchase_cost = max(5000, purchase_cost)\n",
    "        competitor_price = purchase_cost * np.random.uniform(1.05, 1.25)  # Competitor pricing variation\n",
    "        days_on_market = int(np.random.exponential(scale=60))  # Exponential distribution to model market time\n",
    "        days_on_market = min(days_on_market, 365)  # Cap at one year\n",
    "        demand_score = max(1, min(100, int(np.random.normal(loc=50, scale=20))))  # Normalize demand\n",
    "        \n",
    "        if brand in [\"BMW\", \"Mercedes\", \"Tesla\", \"Porsche\", \"Lexus\"]:\n",
    "            current_price = purchase_cost * np.random.uniform(1.2, 1.5)  # Higher markup for luxury cars\n",
    "        else:\n",
    "            current_price = purchase_cost * np.random.uniform(1.1, 1.4)\n",
    "        \n",
    "        sold_price = current_price * np.random.uniform(0.85, 0.98) if np.random.rand() < 0.75 else np.nan  # 75% probability of sale\n",
    "        discount_given = (current_price - sold_price) if not np.isnan(sold_price) else 0\n",
    "        \n",
    "        \n",
    "        data.append([\n",
    "            brand, model, year, mileage, condition, purchase_cost, competitor_price,\n",
    "            days_on_market, demand_score, current_price, sold_price, discount_given\n",
    "        ])\n",
    "    \n",
    "    # Create DataFrame\n",
    "    columns = [\n",
    "        \"Brand\", \"Model\", \"Year\", \"Mileage\", \"Condition\", \"Purchase_Cost\",\n",
    "        \"Competitor_Price\", \"Days_On_Market\", \"Demand_Score\",\n",
    "        \"Current_Price\", \"Sold_Price\", \"Discount_Given\"\n",
    "    ]\n",
    "    df = pd.DataFrame(data, columns=columns)\n",
    "\n",
    "    #Add a flag for the cars which are unsold\n",
    "    df[\"Sold\"] = df[\"Sold_Price\"].notna().astype(int)  # 1 if sold, 0 if not\n",
    "\n",
    "    df.to_csv(save_path, index=False)\n",
    "    print(f\"Synthetic dataset with {num_samples} rows saved at {save_path}\")\n",
    "    return df"
   ]
  },
  {
   "cell_type": "code",
   "execution_count": 37,
   "id": "e39cbad7-b554-4001-94be-58fb1786fc22",
   "metadata": {},
   "outputs": [
    {
     "name": "stdin",
     "output_type": "stream",
     "text": [
      "Enter the number of records to generate:  1000000\n"
     ]
    }
   ],
   "source": [
    "# Load generated car inventory dataset\n",
    "num_rows = int(input(\"Enter the number of records to generate: \"))\n",
    "df = generate_car_inventory_data(num_rows)"
   ]
  },
  {
   "cell_type": "code",
   "execution_count": 48,
   "id": "821e27f7-4ce1-4fa3-b577-263ae0591819",
   "metadata": {},
   "outputs": [],
   "source": [
    "from sklearn.model_selection import train_test_split\n",
    "from sklearn.preprocessing import OneHotEncoder\n",
    "from sklearn.ensemble import RandomForestRegressor\n",
    "from sklearn.metrics import mean_absolute_error, mean_squared_error\n",
    "from matplotlib import pyplot as plt\n",
    "from xgboost import XGBRegressor"
   ]
  },
  {
   "cell_type": "code",
   "execution_count": 55,
   "id": "bd6b0b29-7537-4fe8-b935-da9be54cd1cf",
   "metadata": {},
   "outputs": [
    {
     "name": "stdout",
     "output_type": "stream",
     "text": [
      "Model Performance: MAE=1765.56, RMSE=2262.04\n",
      "Baseline Performance: MAE=4596.96, RMSE=5538.57\n"
     ]
    }
   ],
   "source": [
    "# Drop rows where Sold_Price is NaN for training\n",
    "train_data = df.dropna(subset=[\"Sold_Price\"])\n",
    "test_data = df[df[\"Sold_Price\"].isna()].copy()\n",
    "\n",
    "# Define features and target variable\n",
    "features = [\"Brand\", \"Model\", \"Year\", \"Mileage\", \"Condition\", \"Purchase_Cost\", \"Competitor_Price\", \"Days_On_Market\", \"Demand_Score\", \"Current_Price\"]\n",
    "X = train_data[features]\n",
    "y = train_data[\"Sold_Price\"]\n",
    "\n",
    "# One-hot encoding for categorical variables\n",
    "X = pd.get_dummies(X, columns=[\"Brand\", \"Model\", \"Condition\"], drop_first=True)\n",
    "\n",
    "# Train-test split\n",
    "X_train, X_val, y_train, y_val = train_test_split(X, y, test_size=0.2, random_state=42)\n",
    "\n",
    "# Train a Random Forest Regressor\n",
    "model = XGBRegressor(n_estimators=100, learning_rate=0.1, random_state=42)\n",
    "\n",
    "model.fit(X_train, y_train)\n",
    "\n",
    "# Evaluate model\n",
    "y_pred = model.predict(X_val)\n",
    "mae = mean_absolute_error(y_val, y_pred)\n",
    "rmse = np.sqrt(mean_squared_error(y_val, y_pred))\n",
    "print(f\"Model Performance: MAE={mae:.2f}, RMSE={rmse:.2f}\")\n",
    "\n",
    "# Baseline comparison (Sold_Price = Current_Price)\n",
    "baseline_mae = mean_absolute_error(y_val, X_val[\"Current_Price\"])\n",
    "baseline_rmse = np.sqrt(mean_squared_error(y_val, X_val[\"Current_Price\"]))\n",
    "print(f\"Baseline Performance: MAE={baseline_mae:.2f}, RMSE={baseline_rmse:.2f}\")\n"
   ]
  },
  {
   "cell_type": "code",
   "execution_count": 56,
   "id": "6697497c-eb50-44d7-b2ec-e9cf0c965688",
   "metadata": {},
   "outputs": [
    {
     "data": {
      "image/png": "[encoded data removed]",
      "text/plain": [
       "<Figure size 800x500 with 1 Axes>"
      ]
     },
     "metadata": {},
     "output_type": "display_data"
    },
    {
     "name": "stdout",
     "output_type": "stream",
     "text": [
      "       Brand    Model  Year  Mileage  Current_Price  Predicted_Sold_Price\n",
      "0      Tesla  Model S  2018    26643   66077.904105          60496.523438\n",
      "9   Mercedes  C-Class  2010    32388   67976.349916          62400.890625\n",
      "11    Toyota     RAV4  2020    69862   26904.695098          24700.511719\n",
      "22  Mercedes  S-Class  2020    78770   55341.447987          50803.089844\n",
      "23     Tesla  Model Y  2023    82210   89791.313197          82356.937500\n"
     ]
    }
   ],
   "source": [
    "# Plot residual errors\n",
    "plt.figure(figsize=(8,5))\n",
    "plt.hist(y_val - y_pred, bins=50, edgecolor=\"black\")\n",
    "plt.xlabel(\"Prediction Error (Sold_Price - Predicted)\")\n",
    "plt.ylabel(\"Frequency\")\n",
    "plt.title(\"Distribution of Prediction Errors\")\n",
    "plt.show()\n",
    "\n",
    "# Predict Sold_Price for unsold cars\n",
    "test_X = pd.get_dummies(test_data[features], columns=[\"Brand\", \"Model\", \"Condition\"], drop_first=True)\n",
    "test_X = test_X.reindex(columns=X.columns, fill_value=0)  # Ensure same feature set\n",
    "test_data[\"Predicted_Sold_Price\"] = model.predict(test_X)\n",
    "\n",
    "# Save or display predictions\n",
    "print(test_data[[\"Brand\", \"Model\", \"Year\", \"Mileage\", \"Current_Price\", \"Predicted_Sold_Price\"]].head())"
   ]
  },
  {
   "cell_type": "code",
   "execution_count": null,
   "id": "5e4d683f-dc6c-46b1-a462-1c6554df42fc",
   "metadata": {},
   "outputs": [],
   "source": []
  }
 ],
 "metadata": {
  "kernelspec": {
   "display_name": "Python 3 (ipykernel)",
   "language": "python",
   "name": "python3"
  },
  "language_info": {
   "codemirror_mode": {
    "name": "ipython",
    "version": 3
   },
   "file_extension": ".py",
   "mimetype": "text/x-python",
   "name": "python",
   "nbconvert_exporter": "python",
   "pygments_lexer": "ipython3",
   "version": "3.10.0"
  }
 },
 "nbformat": 4,
 "nbformat_minor": 5
}
